{
 "cells": [
  {
   "cell_type": "code",
   "execution_count": 1,
   "id": "da6c7ca0",
   "metadata": {},
   "outputs": [
    {
     "name": "stdout",
     "output_type": "stream",
     "text": [
      "Requirement already satisfied: mysql-connector-python in c:\\users\\prash\\anaconda3\\lib\\site-packages (8.0.28)\n",
      "Collecting protobuf>=3.0.0\n",
      "  Downloading protobuf-3.20.0-cp39-cp39-win_amd64.whl (904 kB)\n",
      "Installing collected packages: protobuf\n",
      "Successfully installed protobuf-3.20.0\n"
     ]
    }
   ],
   "source": [
    "!pip install mysql-connector-python"
   ]
  },
  {
   "cell_type": "code",
   "execution_count": 8,
   "id": "1a647c0d",
   "metadata": {},
   "outputs": [],
   "source": [
    "import mysql.connector as mysql"
   ]
  },
  {
   "cell_type": "code",
   "execution_count": 9,
   "id": "365661ec",
   "metadata": {},
   "outputs": [],
   "source": [
    "mydb=mysql.connect (host='localhost',user='root',passwd='mysql')"
   ]
  },
  {
   "cell_type": "code",
   "execution_count": 10,
   "id": "e2c5cb9f",
   "metadata": {},
   "outputs": [
    {
     "data": {
      "text/plain": [
       "<mysql.connector.connection_cext.CMySQLConnection at 0x1e3dae385b0>"
      ]
     },
     "execution_count": 10,
     "metadata": {},
     "output_type": "execute_result"
    }
   ],
   "source": [
    "mydb"
   ]
  },
  {
   "cell_type": "code",
   "execution_count": 11,
   "id": "e35f0922",
   "metadata": {},
   "outputs": [],
   "source": [
    "cursor=mydb.cursor()"
   ]
  },
  {
   "cell_type": "code",
   "execution_count": 12,
   "id": "4e01fdfa",
   "metadata": {},
   "outputs": [],
   "source": [
    "cursor.execute(\"show databases\")"
   ]
  },
  {
   "cell_type": "code",
   "execution_count": 75,
   "id": "2e21e0a3",
   "metadata": {},
   "outputs": [
    {
     "data": {
      "text/plain": [
       "[('information_schema',),\n",
       " ('mysql',),\n",
       " ('performance_schema',),\n",
       " ('prashantfirstdatabase',),\n",
       " ('sakila',),\n",
       " ('sys',),\n",
       " ('world',)]"
      ]
     },
     "execution_count": 75,
     "metadata": {},
     "output_type": "execute_result"
    }
   ],
   "source": [
    "cursor.fetchall()\n"
   ]
  },
  {
   "cell_type": "code",
   "execution_count": 62,
   "id": "51baccf6",
   "metadata": {},
   "outputs": [],
   "source": [
    "#Create new data base \n",
    "cursor=mydb.cursor"
   ]
  },
  {
   "cell_type": "code",
   "execution_count": 73,
   "id": "ec6ba761",
   "metadata": {},
   "outputs": [],
   "source": [
    "cursor.execute(\"create database prashantfirstdatabase\")"
   ]
  },
  {
   "cell_type": "code",
   "execution_count": 2,
   "id": "9b0a8ca2",
   "metadata": {},
   "outputs": [],
   "source": [
    "import mysql.connector as sql"
   ]
  },
  {
   "cell_type": "code",
   "execution_count": 4,
   "id": "33929816",
   "metadata": {},
   "outputs": [],
   "source": [
    "sql=sql.connect(host='localhost',user='root',passwd='mysql')"
   ]
  },
  {
   "cell_type": "code",
   "execution_count": 5,
   "id": "71a1c289",
   "metadata": {},
   "outputs": [
    {
     "data": {
      "text/plain": [
       "<mysql.connector.connection_cext.CMySQLConnection at 0x2597cba6790>"
      ]
     },
     "execution_count": 5,
     "metadata": {},
     "output_type": "execute_result"
    }
   ],
   "source": [
    "sql"
   ]
  },
  {
   "cell_type": "code",
   "execution_count": 6,
   "id": "3d45c20e",
   "metadata": {},
   "outputs": [],
   "source": [
    "cursor=sql.cursor()"
   ]
  },
  {
   "cell_type": "code",
   "execution_count": 7,
   "id": "f5691cf2",
   "metadata": {},
   "outputs": [
    {
     "ename": "AttributeError",
     "evalue": "'function' object has no attribute 'execute'",
     "output_type": "error",
     "traceback": [
      "\u001b[1;31m---------------------------------------------------------------------------\u001b[0m",
      "\u001b[1;31mAttributeError\u001b[0m                            Traceback (most recent call last)",
      "\u001b[1;32m~\\AppData\\Local\\Temp/ipykernel_10948/2857424075.py\u001b[0m in \u001b[0;36m<module>\u001b[1;34m\u001b[0m\n\u001b[1;32m----> 1\u001b[1;33m \u001b[0mcursor\u001b[0m\u001b[1;33m.\u001b[0m\u001b[0mexecute\u001b[0m\u001b[1;33m(\u001b[0m\u001b[1;34m'show databases'\u001b[0m\u001b[1;33m)\u001b[0m\u001b[1;33m\u001b[0m\u001b[1;33m\u001b[0m\u001b[0m\n\u001b[0m",
      "\u001b[1;31mAttributeError\u001b[0m: 'function' object has no attribute 'execute'"
     ]
    }
   ],
   "source": [
    "cursor.execute('show databases')"
   ]
  },
  {
   "cell_type": "code",
   "execution_count": 9,
   "id": "16c790b6",
   "metadata": {},
   "outputs": [
    {
     "data": {
      "text/plain": [
       "[('information_schema',),\n",
       " ('mysql',),\n",
       " ('performance_schema',),\n",
       " ('prashantfirstdatabase',),\n",
       " ('sakila',),\n",
       " ('sys',),\n",
       " ('world',)]"
      ]
     },
     "execution_count": 9,
     "metadata": {},
     "output_type": "execute_result"
    }
   ],
   "source": [
    "cursor.fetchall()"
   ]
  },
  {
   "cell_type": "code",
   "execution_count": 11,
   "id": "d4b4c40b",
   "metadata": {},
   "outputs": [],
   "source": [
    "import mysql.connector as sql\n"
   ]
  },
  {
   "cell_type": "code",
   "execution_count": 12,
   "id": "ad51f8e0",
   "metadata": {},
   "outputs": [],
   "source": [
    "sql=sql.connect(host='localhost',user='root',passwd='mysql')"
   ]
  },
  {
   "cell_type": "code",
   "execution_count": 13,
   "id": "42f6accf",
   "metadata": {},
   "outputs": [
    {
     "data": {
      "text/plain": [
       "<mysql.connector.connection_cext.CMySQLConnection at 0x2597cba6dc0>"
      ]
     },
     "execution_count": 13,
     "metadata": {},
     "output_type": "execute_result"
    }
   ],
   "source": [
    "sql"
   ]
  },
  {
   "cell_type": "code",
   "execution_count": 14,
   "id": "892aa170",
   "metadata": {},
   "outputs": [],
   "source": [
    "cursor.execute('show databases')"
   ]
  },
  {
   "cell_type": "code",
   "execution_count": 15,
   "id": "79e5abae",
   "metadata": {},
   "outputs": [
    {
     "data": {
      "text/plain": [
       "[('information_schema',),\n",
       " ('mysql',),\n",
       " ('performance_schema',),\n",
       " ('prashantfirstdatabase',),\n",
       " ('sakila',),\n",
       " ('sys',),\n",
       " ('world',)]"
      ]
     },
     "execution_count": 15,
     "metadata": {},
     "output_type": "execute_result"
    }
   ],
   "source": [
    "cursor.fetchall()"
   ]
  },
  {
   "cell_type": "code",
   "execution_count": 16,
   "id": "bf7e0f0a",
   "metadata": {},
   "outputs": [],
   "source": [
    "import mysql.connector as sql"
   ]
  },
  {
   "cell_type": "code",
   "execution_count": 17,
   "id": "baab432d",
   "metadata": {},
   "outputs": [],
   "source": [
    "sql=sql.connect(host='localhost',user='root',passwd='mysql')"
   ]
  },
  {
   "cell_type": "code",
   "execution_count": 18,
   "id": "d3c797dc",
   "metadata": {},
   "outputs": [
    {
     "data": {
      "text/plain": [
       "<mysql.connector.connection_cext.CMySQLConnection at 0x2597cba6c10>"
      ]
     },
     "execution_count": 18,
     "metadata": {},
     "output_type": "execute_result"
    }
   ],
   "source": [
    "sql"
   ]
  },
  {
   "cell_type": "code",
   "execution_count": 19,
   "id": "a268580c",
   "metadata": {},
   "outputs": [],
   "source": [
    "cursor.execute('show databases')"
   ]
  },
  {
   "cell_type": "code",
   "execution_count": 20,
   "id": "67b0eed7",
   "metadata": {},
   "outputs": [
    {
     "data": {
      "text/plain": [
       "[('information_schema',),\n",
       " ('mysql',),\n",
       " ('performance_schema',),\n",
       " ('prashantfirstdatabase',),\n",
       " ('sakila',),\n",
       " ('sys',),\n",
       " ('world',)]"
      ]
     },
     "execution_count": 20,
     "metadata": {},
     "output_type": "execute_result"
    }
   ],
   "source": [
    "cursor.fetchall()"
   ]
  },
  {
   "cell_type": "code",
   "execution_count": 21,
   "id": "64bc5a51",
   "metadata": {},
   "outputs": [],
   "source": [
    "cursor=sql.cursor()"
   ]
  },
  {
   "cell_type": "code",
   "execution_count": 22,
   "id": "298d4754",
   "metadata": {},
   "outputs": [],
   "source": [
    "cursor.execute('create database expancess_monthly')"
   ]
  },
  {
   "cell_type": "code",
   "execution_count": 23,
   "id": "035c5a68",
   "metadata": {},
   "outputs": [],
   "source": [
    "cursor.execute('show databases')"
   ]
  },
  {
   "cell_type": "code",
   "execution_count": 25,
   "id": "4fae9e16",
   "metadata": {},
   "outputs": [
    {
     "data": {
      "text/plain": [
       "[('expancess_monthly',),\n",
       " ('information_schema',),\n",
       " ('mysql',),\n",
       " ('performance_schema',),\n",
       " ('prashantfirstdatabase',),\n",
       " ('sakila',),\n",
       " ('sys',),\n",
       " ('world',)]"
      ]
     },
     "execution_count": 25,
     "metadata": {},
     "output_type": "execute_result"
    }
   ],
   "source": [
    "cursor.fetchall()\n"
   ]
  },
  {
   "cell_type": "code",
   "execution_count": 26,
   "id": "f0b8a691",
   "metadata": {},
   "outputs": [],
   "source": [
    "cursor.execute('create table expancess_monthly.april(slno INT(10),Description VARCHAR(30),Amount INT(20),Target INT(20))' )"
   ]
  },
  {
   "cell_type": "code",
   "execution_count": 27,
   "id": "a733383d",
   "metadata": {},
   "outputs": [],
   "source": [
    "cursor.execute('use expancess_monthly')"
   ]
  },
  {
   "cell_type": "code",
   "execution_count": 28,
   "id": "0ab8a782",
   "metadata": {},
   "outputs": [],
   "source": [
    "cursor.execute('show tables')"
   ]
  },
  {
   "cell_type": "code",
   "execution_count": 29,
   "id": "1200f311",
   "metadata": {},
   "outputs": [
    {
     "data": {
      "text/plain": [
       "[('april',)]"
      ]
     },
     "execution_count": 29,
     "metadata": {},
     "output_type": "execute_result"
    }
   ],
   "source": [
    "cursor.fetchall()"
   ]
  },
  {
   "cell_type": "code",
   "execution_count": 1,
   "id": "490fe46a",
   "metadata": {},
   "outputs": [],
   "source": [
    "import mysql.connector as mysql"
   ]
  },
  {
   "cell_type": "code",
   "execution_count": 2,
   "id": "04b3f11b",
   "metadata": {},
   "outputs": [],
   "source": [
    "mysql=mysql.connect(host='localhost',user='root',passwd='mysql')"
   ]
  },
  {
   "cell_type": "code",
   "execution_count": 3,
   "id": "1a2c8c7e",
   "metadata": {},
   "outputs": [
    {
     "data": {
      "text/plain": [
       "<mysql.connector.connection_cext.CMySQLConnection at 0x1e3dae38550>"
      ]
     },
     "execution_count": 3,
     "metadata": {},
     "output_type": "execute_result"
    }
   ],
   "source": [
    "mysql"
   ]
  },
  {
   "cell_type": "code",
   "execution_count": 4,
   "id": "0ef70adc",
   "metadata": {},
   "outputs": [],
   "source": [
    "cursor=mysql.cursor"
   ]
  },
  {
   "cell_type": "code",
   "execution_count": null,
   "id": "4e3be057",
   "metadata": {},
   "outputs": [],
   "source": []
  },
  {
   "cell_type": "code",
   "execution_count": null,
   "id": "356de086",
   "metadata": {},
   "outputs": [],
   "source": []
  }
 ],
 "metadata": {
  "kernelspec": {
   "display_name": "Python 3 (ipykernel)",
   "language": "python",
   "name": "python3"
  },
  "language_info": {
   "codemirror_mode": {
    "name": "ipython",
    "version": 3
   },
   "file_extension": ".py",
   "mimetype": "text/x-python",
   "name": "python",
   "nbconvert_exporter": "python",
   "pygments_lexer": "ipython3",
   "version": "3.9.7"
  }
 },
 "nbformat": 4,
 "nbformat_minor": 5
}
