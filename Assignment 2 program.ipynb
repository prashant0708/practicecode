{
 "cells": [
  {
   "cell_type": "code",
   "execution_count": null,
   "id": "7e1c524f",
   "metadata": {},
   "outputs": [],
   "source": [
    "1. Write a Python program to convert kilometers to miles?"
   ]
  },
  {
   "cell_type": "code",
   "execution_count": 1,
   "id": "be9a1491",
   "metadata": {},
   "outputs": [
    {
     "name": "stdout",
     "output_type": "stream",
     "text": [
      "Enter the km 10\n",
      "10.0 km is equal to  6.215040397762586 miles\n"
     ]
    }
   ],
   "source": [
    "#Enter the km value \n",
    "a=float (input (\"Enter the km \"))\n",
    "#changing the km to miles by dividing it by 1.609\n",
    "b=a/ 1.609\n",
    "\n",
    "print (a, \"km is equal to \",b,\"miles\")"
   ]
  },
  {
   "cell_type": "code",
   "execution_count": null,
   "id": "f49a5cf3",
   "metadata": {},
   "outputs": [],
   "source": [
    "2. Write a Python program to convert Celsius to Fahrenheit?"
   ]
  },
  {
   "cell_type": "code",
   "execution_count": 15,
   "id": "f91e879b",
   "metadata": {},
   "outputs": [],
   "source": [
    "class temp_convertor:\n",
    "    try:\n",
    "        def __init__(self,celsius):\n",
    "            self.celsius=celsius\n",
    "    except Exception as e:\n",
    "        print (e)\n",
    "    try:\n",
    "        def feh_convertor(self):\n",
    "            result= self.celsius*(9/5)+32\n",
    "            return (self.celsius,\"degree celsius value in \",\"Fahrenheit  is \", result)\n",
    "    except Exception as f:\n",
    "        print (f)"
   ]
  },
  {
   "cell_type": "code",
   "execution_count": 16,
   "id": "4bcaab47",
   "metadata": {},
   "outputs": [],
   "source": [
    "t=temp_convertor(25)"
   ]
  },
  {
   "cell_type": "code",
   "execution_count": 17,
   "id": "9342c565",
   "metadata": {},
   "outputs": [
    {
     "data": {
      "text/plain": [
       "(25, 'degree celsius value in ', 'Fahrenheit  is ', 77.0)"
      ]
     },
     "execution_count": 17,
     "metadata": {},
     "output_type": "execute_result"
    }
   ],
   "source": [
    "t.feh_convertor()\n"
   ]
  },
  {
   "cell_type": "code",
   "execution_count": null,
   "id": "6189b650",
   "metadata": {},
   "outputs": [],
   "source": [
    "3. Write a Python program to display calendar?"
   ]
  },
  {
   "cell_type": "code",
   "execution_count": 29,
   "id": "de2314a8",
   "metadata": {},
   "outputs": [
    {
     "name": "stdout",
     "output_type": "stream",
     "text": [
      "                                  2022\n",
      "\n",
      "      January                   February                   March\n",
      "Mo Tu We Th Fr Sa Su      Mo Tu We Th Fr Sa Su      Mo Tu We Th Fr Sa Su\n",
      "                1  2          1  2  3  4  5  6          1  2  3  4  5  6\n",
      " 3  4  5  6  7  8  9       7  8  9 10 11 12 13       7  8  9 10 11 12 13\n",
      "10 11 12 13 14 15 16      14 15 16 17 18 19 20      14 15 16 17 18 19 20\n",
      "17 18 19 20 21 22 23      21 22 23 24 25 26 27      21 22 23 24 25 26 27\n",
      "24 25 26 27 28 29 30      28                        28 29 30 31\n",
      "31\n",
      "\n",
      "       April                      May                       June\n",
      "Mo Tu We Th Fr Sa Su      Mo Tu We Th Fr Sa Su      Mo Tu We Th Fr Sa Su\n",
      "             1  2  3                         1             1  2  3  4  5\n",
      " 4  5  6  7  8  9 10       2  3  4  5  6  7  8       6  7  8  9 10 11 12\n",
      "11 12 13 14 15 16 17       9 10 11 12 13 14 15      13 14 15 16 17 18 19\n",
      "18 19 20 21 22 23 24      16 17 18 19 20 21 22      20 21 22 23 24 25 26\n",
      "25 26 27 28 29 30         23 24 25 26 27 28 29      27 28 29 30\n",
      "                          30 31\n",
      "\n",
      "        July                     August                  September\n",
      "Mo Tu We Th Fr Sa Su      Mo Tu We Th Fr Sa Su      Mo Tu We Th Fr Sa Su\n",
      "             1  2  3       1  2  3  4  5  6  7                1  2  3  4\n",
      " 4  5  6  7  8  9 10       8  9 10 11 12 13 14       5  6  7  8  9 10 11\n",
      "11 12 13 14 15 16 17      15 16 17 18 19 20 21      12 13 14 15 16 17 18\n",
      "18 19 20 21 22 23 24      22 23 24 25 26 27 28      19 20 21 22 23 24 25\n",
      "25 26 27 28 29 30 31      29 30 31                  26 27 28 29 30\n",
      "\n",
      "      October                   November                  December\n",
      "Mo Tu We Th Fr Sa Su      Mo Tu We Th Fr Sa Su      Mo Tu We Th Fr Sa Su\n",
      "                1  2          1  2  3  4  5  6                1  2  3  4\n",
      " 3  4  5  6  7  8  9       7  8  9 10 11 12 13       5  6  7  8  9 10 11\n",
      "10 11 12 13 14 15 16      14 15 16 17 18 19 20      12 13 14 15 16 17 18\n",
      "17 18 19 20 21 22 23      21 22 23 24 25 26 27      19 20 21 22 23 24 25\n",
      "24 25 26 27 28 29 30      28 29 30                  26 27 28 29 30 31\n",
      "31\n",
      "\n"
     ]
    }
   ],
   "source": [
    "import calendar\n",
    "yy=2022\n",
    "print (calendar.calendar(yy))"
   ]
  },
  {
   "cell_type": "code",
   "execution_count": null,
   "id": "b90a63e7",
   "metadata": {},
   "outputs": [],
   "source": [
    "4. Write a Python program to solve quadratic equation?"
   ]
  },
  {
   "cell_type": "code",
   "execution_count": 68,
   "id": "3ba330f3",
   "metadata": {},
   "outputs": [
    {
     "name": "stdout",
     "output_type": "stream",
     "text": [
      "entr the value of a 2\n",
      "enter the value of b 4\n",
      "enter the value of c 6\n",
      "root is complex\n",
      "Value of x is  -1.0 -i 1.4142135623730951 and \n",
      " -1.0 +i 1.4142135623730951\n"
     ]
    }
   ],
   "source": [
    "#Ans-# quadratic equation= ax**2+bx+c\n",
    "   \n",
    "    #formula of x0= (-b+((b**2)-4ac)*0.5)/2*a\n",
    "             # x1=(-b-((b**2)-4ac)*0.5)2*a\n",
    "a= float (input(\"entr the value of a \"))\n",
    "b= float(input(\"enter the value of b \"))\n",
    "c= float(input(\"enter the value of c \"))\n",
    "\n",
    "rootvalue= b**2-4*a*c\n",
    "rootvalue1=abs(rootvalue)\n",
    "\n",
    "sqr= (rootvalue1)**0.5\n",
    "\n",
    "if rootvalue>0:\n",
    "    print (\"Root is real number\")\n",
    "    result1 = (-b+sqr)/(2*a)\n",
    "    result2=(-b-sqr)/(2*a)\n",
    "    print (\"Value of x is \", result1 ,\"and\", result2)\n",
    "elif rootvalue==0:\n",
    "    print (\"root is zero\")\n",
    "    result1 = (-b)/(2*a)\n",
    "    result2=(-b)/(2*a)\n",
    "    print (\"Value of x is \" ,result1, \"and\", result2)\n",
    "else:\n",
    "    print (\"root is complex\")\n",
    "    print (\"Value of x is \", (-b/(2*a)),\"-i\",(sqr/(2*a)) ,\"and\",\"\\n\" ,   (-b/(2*a)),\"+i\",(sqr/(2*a)))\n",
    "    "
   ]
  },
  {
   "cell_type": "code",
   "execution_count": null,
   "id": "77d802c2",
   "metadata": {},
   "outputs": [],
   "source": [
    "5. Write a Python program to swap two variables without temp variable?"
   ]
  },
  {
   "cell_type": "code",
   "execution_count": 72,
   "id": "fc117519",
   "metadata": {},
   "outputs": [
    {
     "name": "stdout",
     "output_type": "stream",
     "text": [
      "x= 10 y= 12 before swaping\n",
      "x= 12 y= 10 after swaping\n"
     ]
    }
   ],
   "source": [
    "x,y=10,12\n",
    "print (\"x=\",x,\"y=\",y,\"before swaping\")\n",
    "x,y=y,x\n",
    "print (\"x=\",x,\"y=\",y,\"after swaping\")"
   ]
  },
  {
   "cell_type": "code",
   "execution_count": null,
   "id": "b0ff574a",
   "metadata": {},
   "outputs": [],
   "source": []
  },
  {
   "cell_type": "code",
   "execution_count": null,
   "id": "6ed8a077",
   "metadata": {},
   "outputs": [],
   "source": []
  }
 ],
 "metadata": {
  "kernelspec": {
   "display_name": "Python 3 (ipykernel)",
   "language": "python",
   "name": "python3"
  },
  "language_info": {
   "codemirror_mode": {
    "name": "ipython",
    "version": 3
   },
   "file_extension": ".py",
   "mimetype": "text/x-python",
   "name": "python",
   "nbconvert_exporter": "python",
   "pygments_lexer": "ipython3",
   "version": "3.9.7"
  }
 },
 "nbformat": 4,
 "nbformat_minor": 5
}
